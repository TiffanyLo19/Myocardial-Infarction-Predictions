{
  "nbformat": 4,
  "nbformat_minor": 0,
  "metadata": {
    "colab": {
      "name": "MI_LDA QDA.ipynb",
      "provenance": [],
      "authorship_tag": "ABX9TyOUOJRK7Mnce9LAg+J7r4iU",
      "include_colab_link": true
    },
    "kernelspec": {
      "name": "python3",
      "display_name": "Python 3"
    },
    "language_info": {
      "name": "python"
    }
  },
  "cells": [
    {
      "cell_type": "markdown",
      "metadata": {
        "id": "view-in-github",
        "colab_type": "text"
      },
      "source": [
        "<a href=\"https://colab.research.google.com/github/siribafna/Myocardial-Infarction-Predictions/blob/main/MI_LDA_QDA.ipynb\" target=\"_parent\"><img src=\"https://colab.research.google.com/assets/colab-badge.svg\" alt=\"Open In Colab\"/></a>"
      ]
    },
    {
      "cell_type": "code",
      "source": [
        "#%% Libraries\n",
        "import numpy as np\n",
        "import matplotlib.pyplot as plt\n",
        "from matplotlib.patches import Patch\n",
        "from matplotlib.lines import Line2D\n",
        "import pandas as pd\n",
        "import seaborn as sns \n",
        "from sklearn.model_selection import train_test_split\n",
        "from sklearn.model_selection import RepeatedStratifiedKFold\n",
        "from sklearn.model_selection import cross_val_score"
      ],
      "metadata": {
        "id": "IvOe9Ea0bcfB"
      },
      "execution_count": null,
      "outputs": []
    },
    {
      "cell_type": "code",
      "source": [
        "from google.colab import drive\n",
        "drive.mount('/content/drive')"
      ],
      "metadata": {
        "id": "nWqCGWc-bcTr"
      },
      "execution_count": null,
      "outputs": []
    },
    {
      "cell_type": "code",
      "source": [
        "#LDA libraries\n",
        "from sklearn.discriminant_analysis import LinearDiscriminantAnalysis\n",
        "\n",
        "#define predictor and response variables\n",
        "X = df[['AGE', 'SEX', 'INF_ANAM', 'STENOK_AN', 'FK_STENOK']]\n",
        "y = df['LET_IS']!=0\n",
        "\n",
        "#Fit the LDA model\n",
        "model = LinearDiscriminantAnalysis()\n",
        "model.fit(X, y)\n",
        "#Define method to evaluate model\n",
        "cv = RepeatedStratifiedKFold(n_splits=10, n_repeats=3, random_state=1)\n",
        "#evaluate model\n",
        "scores = cross_val_score(model, X, y, scoring='accuracy', cv=cv, n_jobs=-1)\n",
        "print(np.mean(scores))"
      ],
      "metadata": {
        "id": "KAP1J4PVcil0"
      },
      "execution_count": null,
      "outputs": []
    },
    {
      "cell_type": "code",
      "execution_count": null,
      "metadata": {
        "id": "Mbd_YCE0axNv"
      },
      "outputs": [],
      "source": [
        "#QDA Libraries\n",
        "from sklearn.discriminant_analysis import QuadraticDiscriminantAnalysis "
      ]
    },
    {
      "cell_type": "code",
      "source": [
        "#define predictor and response variables\n",
        "X = df[['AGE', 'SEX', 'INF_ANAM', 'STENOK_AN', 'FK_STENOK']]\n",
        "y = df['LET_IS']!=0\n",
        "\n",
        "#Fit the QDA model\n",
        "model = QuadraticDiscriminantAnalysis()\n",
        "model.fit(X, y)\n",
        "#Define method to evaluate model\n",
        "cv = RepeatedStratifiedKFold(n_splits=10, n_repeats=3, random_state=1)\n",
        "\n",
        "#evaluate model\n",
        "scores = cross_val_score(model, X, y, scoring='accuracy', cv=cv, n_jobs=-1)\n",
        "print(np.mean(scores))"
      ],
      "metadata": {
        "id": "M1Vbh6_lbaER"
      },
      "execution_count": null,
      "outputs": []
    }
  ]
}