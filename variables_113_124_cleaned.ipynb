{
  "nbformat": 4,
  "nbformat_minor": 0,
  "metadata": {
    "colab": {
      "name": "variables 113-124 cleaned.ipynb",
      "provenance": [],
      "collapsed_sections": [],
      "authorship_tag": "ABX9TyPoab8nTFivjRq69HMq2RVx",
      "include_colab_link": true
    },
    "kernelspec": {
      "name": "python3",
      "display_name": "Python 3"
    },
    "language_info": {
      "name": "python"
    }
  },
  "cells": [
    {
      "cell_type": "markdown",
      "metadata": {
        "id": "view-in-github",
        "colab_type": "text"
      },
      "source": [
        "<a href=\"https://colab.research.google.com/github/siribafna/Myocardial-Infarction-Predictions/blob/main/variables_113_124_cleaned.ipynb\" target=\"_parent\"><img src=\"https://colab.research.google.com/assets/colab-badge.svg\" alt=\"Open In Colab\"/></a>"
      ]
    },
    {
      "cell_type": "code",
      "source": [
        "import pandas as pd \n",
        "MI_data = pd.read_csv('https://raw.githubusercontent.com/siribafna/Myocardial-Infarction-Predictions/main/MI.txt')"
      ],
      "metadata": {
        "id": "uIentFQbz2jh"
      },
      "execution_count": 73,
      "outputs": []
    },
    {
      "cell_type": "code",
      "source": [
        "MI_data.describe()"
      ],
      "metadata": {
        "id": "DyrmlBSP0jn8"
      },
      "execution_count": null,
      "outputs": []
    },
    {
      "cell_type": "code",
      "source": [
        "# count the number of missing values for each column\n",
        "total_missing = MI_data.isnull().sum()\n",
        "missing = total_missing > (len(MI_data)*.5)\n",
        "missing = total_missing[missing]\n",
        "\n",
        "# get variables with NaN values > 50% of MI_data\n",
        "print(missing)\n",
        "missing[1]\n",
        "# report the results\n",
        "total_missing.to_csv('out.csv', index=True)  "
      ],
      "metadata": {
        "id": "3ysHKsNT0U5g"
      },
      "execution_count": null,
      "outputs": []
    },
    {
      "cell_type": "code",
      "source": [
        "MI_data.drop(missing.index, axis=1)"
      ],
      "metadata": {
        "id": "lEs30MMS0pSj"
      },
      "execution_count": null,
      "outputs": []
    },
    {
      "cell_type": "code",
      "source": [
        "# fill missing values with mean column values\n",
        "MI_data.fillna(MI_data.mean(), inplace=True)"
      ],
      "metadata": {
        "id": "XCrXUN780tFr"
      },
      "execution_count": 77,
      "outputs": []
    },
    {
      "cell_type": "code",
      "execution_count": null,
      "metadata": {
        "id": "dTIyjHqK_wsJ"
      },
      "outputs": [],
      "source": [
        "import numpy as np\n",
        "import pandas as pd\n",
        "import plotly.offline as py\n",
        "import plotly.graph_objs as go\n",
        "import numpy as np\n",
        "import matplotlib.pyplot as plt\n",
        "from matplotlib.patches import Patch\n",
        "from matplotlib.lines import Line2D\n",
        "import seaborn as sns\n",
        "import io \n",
        "\n",
        "data1 = pd.read_csv('https://raw.githubusercontent.com/siribafna/Myocardial-Infarction-Predictions/main/MI-cleaned-TT.csv', sep = ',')\n",
        "\n",
        "data1.head()"
      ]
    },
    {
      "cell_type": "code",
      "source": [
        "# Heatmap\n",
        "\n",
        "plt.figure(figsize = (100, 100))\n",
        "cor = data1.corr()\n",
        "sns.heatmap(cor, annot = True, cmap = plt.cm.Reds)\n",
        "plt.show()"
      ],
      "metadata": {
        "id": "6iLqrms50wEf"
      },
      "execution_count": null,
      "outputs": []
    },
    {
      "cell_type": "code",
      "source": [
        "# Correlation with output variable\n",
        "cor_target = abs(cor[\"LET_IS\"])\n",
        "\n",
        "# Selecting highly correlated features\n",
        "relevant_features = cor_target[cor_target > 0.5]\n",
        "relevant_features"
      ],
      "metadata": {
        "id": "sdoGz9PCzzJX"
      },
      "execution_count": null,
      "outputs": []
    },
    {
      "cell_type": "code",
      "source": [
        "# Original % for complications\n",
        "data1.REC_IM.value_counts() / len(data1)\n"
      ],
      "metadata": {
        "colab": {
          "base_uri": "https://localhost:8080/"
        },
        "id": "iD28PSOh6AVk",
        "outputId": "d88d7942-cf95-443b-b2eb-3688e4c6880d"
      },
      "execution_count": 96,
      "outputs": [
        {
          "output_type": "execute_result",
          "data": {
            "text/plain": [
              "0    0.907825\n",
              "1    0.092175\n",
              "Name: REC_IM, dtype: float64"
            ]
          },
          "metadata": {},
          "execution_count": 96
        }
      ]
    },
    {
      "cell_type": "code",
      "source": [
        "# Create new dataframe for complications\n",
        "newset = data1[['FIBR_PREDS', 'PREDS_TAH', 'JELUD_TAH', 'FIBR_JELUD', 'A_V_BLOK',\n",
        "                'OTEK_LANC', 'RAZRIV', 'DRESSLER', 'ZSN', 'REC_IM', 'P_IM_STEN']].copy()\n",
        "newset.index.name = 'count'\n",
        "newset.rename(columns = {'PREDS_TAH':'complications'}, inplace = True)\n",
        "\n",
        "# Add columns\n",
        "newset.complications = newset.complications.astype(int) + newset.pop('FIBR_PREDS').astype(int) + newset.pop('OTEK_LANC').astype(int) \n",
        "+ newset.pop('P_IM_STEN').astype(int) + newset.pop('A_V_BLOK').astype(int) + newset.pop('JELUD_TAH').astype(int) + newset.pop('REC_IM').astype(int) \n",
        "+ newset.pop('ZSN').astype(int) + newset.pop('DRESSLER').astype(int) + newset.pop('FIBR_JELUD').astype(int) + newset.pop('RAZRIV').astype(int)\n",
        "\n",
        "#newset[\"FIBR_PREDS\"].where(~pd.isnull(newset[\"FIBR_PREDS\"]), newset[\"PREDS_TAH\"])\n",
        "#newset[[\"FIBR_PREDS\", \"PREDS_TAH\"]].max(axis=1)\n",
        "\n",
        "# Convert binary (1/0) to yes/no\n",
        "newset = newset.replace({1 : 'yes', 0 : 'no', 2 : 'yes', 3 : 'yes'})\n",
        "\n",
        "newset1 = newset[['complications']].copy()\n",
        "newset1\n",
        "             "
      ],
      "metadata": {
        "id": "jSMiPz7F_ERR"
      },
      "execution_count": null,
      "outputs": []
    },
    {
      "cell_type": "code",
      "source": [
        "# Check new complications %\n",
        "newset1.complications.value_counts() / len(newset)\n"
      ],
      "metadata": {
        "colab": {
          "base_uri": "https://localhost:8080/"
        },
        "id": "Jw8cp77XFpX_",
        "outputId": "f84a5df0-6fda-4156-f8b9-7cb79f48b740"
      },
      "execution_count": 95,
      "outputs": [
        {
          "output_type": "execute_result",
          "data": {
            "text/plain": [
              "no     0.812334\n",
              "yes    0.187666\n",
              "Name: complications, dtype: float64"
            ]
          },
          "metadata": {},
          "execution_count": 95
        }
      ]
    },
    {
      "cell_type": "code",
      "source": [
        "# Add complications column\n",
        "addcolumn = newset1['complications']\n",
        "data1 = pd.concat([data1, addcolumn], axis = 1)\n",
        "\n",
        "# Remove previous columns\n",
        "dropped = data1.drop(columns = ['FIBR_PREDS', 'PREDS_TAH', 'JELUD_TAH', 'FIBR_JELUD', 'A_V_BLOK',\n",
        "             'OTEK_LANC', 'RAZRIV', 'DRESSLER', 'ZSN', 'REC_IM', 'P_IM_STEN'])\n",
        "\n",
        "dropped"
      ],
      "metadata": {
        "id": "4XhSLhloUIvh"
      },
      "execution_count": null,
      "outputs": []
    },
    {
      "cell_type": "code",
      "source": [
        ""
      ],
      "metadata": {
        "id": "_346vTIDViKs"
      },
      "execution_count": null,
      "outputs": []
    }
  ]
}