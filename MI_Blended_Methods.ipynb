{
  "nbformat": 4,
  "nbformat_minor": 0,
  "metadata": {
    "colab": {
      "name": "MI_Blended Methods.ipynb",
      "provenance": [],
      "collapsed_sections": [],
      "authorship_tag": "ABX9TyNCCh0EeoVjviSbNq8RpoDT",
      "include_colab_link": true
    },
    "kernelspec": {
      "name": "python3",
      "display_name": "Python 3"
    },
    "language_info": {
      "name": "python"
    }
  },
  "cells": [
    {
      "cell_type": "markdown",
      "metadata": {
        "id": "view-in-github",
        "colab_type": "text"
      },
      "source": [
        "<a href=\"https://colab.research.google.com/github/siribafna/Myocardial-Infarction-Predictions/blob/main/MI_Blended_Methods.ipynb\" target=\"_parent\"><img src=\"https://colab.research.google.com/assets/colab-badge.svg\" alt=\"Open In Colab\"/></a>"
      ]
    },
    {
      "cell_type": "code",
      "execution_count": null,
      "metadata": {
        "id": "IfoaUUj4uGdD"
      },
      "outputs": [],
      "source": [
        "#%% Libraries\n",
        "import numpy as np\n",
        "import matplotlib.pyplot as plt\n",
        "from matplotlib.patches import Patch\n",
        "from matplotlib.lines import Line2D\n",
        "import pandas as pd\n",
        "import seaborn as sns "
      ]
    },
    {
      "cell_type": "code",
      "source": [
        "#from google.colab import drive\n",
        "#drive.mount('/content/drive')"
      ],
      "metadata": {
        "colab": {
          "base_uri": "https://localhost:8080/"
        },
        "id": "seToRsTt-oqm",
        "outputId": "f4895037-54f9-44a7-ca54-fa22ae9685b9"
      },
      "execution_count": null,
      "outputs": [
        {
          "output_type": "stream",
          "name": "stdout",
          "text": [
            "Mounted at /content/drive\n"
          ]
        }
      ]
    },
    {
      "cell_type": "code",
      "source": [
        "#Get data from csv\n",
        "#df = pd.read_csv(\"/content/drive/MyDrive/CS 4475/MI_clean.csv\")\n",
        "df = pd.read_csv('https://raw.githubusercontent.com/siribafna/Myocardial-Infarction-Predictions/main/MI-cleaned-TT.csv', sep=',')"
      ],
      "metadata": {
        "id": "twkhfMMH-rbY"
      },
      "execution_count": null,
      "outputs": []
    },
    {
      "cell_type": "code",
      "source": [
        "from sklearn.model_selection import RepeatedStratifiedKFold\n",
        "from sklearn.model_selection import cross_val_score\n",
        "results = []\n"
      ],
      "metadata": {
        "id": "Gh6K0Pv6aN0a"
      },
      "execution_count": null,
      "outputs": []
    },
    {
      "cell_type": "code",
      "source": [
        "names = ['LDA', 'QDA', 'LOGR', 'KNN', 'DT', 'RF', 'SVM', 'NN']"
      ],
      "metadata": {
        "id": "4pIegX4Zd4u6"
      },
      "execution_count": null,
      "outputs": []
    },
    {
      "cell_type": "code",
      "source": [
        "#LDA libraries\n",
        "from sklearn.discriminant_analysis import LinearDiscriminantAnalysis\n",
        "\n",
        "#define predictor and response variables\n",
        "#X = df[['AGE', 'SEX', 'INF_ANAM', 'STENOK_AN', 'FK_STENOK']]\n",
        "X = df[['L_BLOOD', 'AGE', 'K_BLOOD', 'S_AD_ORIT', 'TIME_B_S', 'ZSN', 'ROE', 'AST_BLOOD', 'ALT_BLOOD', 'RAZRIV']]\n",
        "y = df['LET_IS']!=0\n",
        "\n",
        "#Fit the LDA model\n",
        "LDAmodel = LinearDiscriminantAnalysis()\n",
        "LDAmodel.fit(X, y)\n",
        "#Define method to evaluate model\n",
        "cv = RepeatedStratifiedKFold(n_splits=10, n_repeats=3, random_state=1)\n",
        "#evaluate model\n",
        "scores = cross_val_score(LDAmodel, X, y, scoring='accuracy', cv=cv, n_jobs=-1)\n",
        "results.append(scores)\n",
        "print(np.mean(scores))"
      ],
      "metadata": {
        "id": "u7z3e_HWurAq",
        "colab": {
          "base_uri": "https://localhost:8080/"
        },
        "outputId": "98ca3828-a742-49ae-b970-051ab2cdad35"
      },
      "execution_count": null,
      "outputs": [
        {
          "output_type": "stream",
          "name": "stdout",
          "text": [
            "0.8956688741721854\n"
          ]
        }
      ]
    },
    {
      "cell_type": "code",
      "source": [
        "#QDA Libraries\n",
        "from sklearn.discriminant_analysis import QuadraticDiscriminantAnalysis \n",
        "\n",
        "#define predictor and response variables\n",
        "X = df[['L_BLOOD', 'AGE', 'K_BLOOD', 'S_AD_ORIT', 'TIME_B_S', 'ZSN', 'ROE', 'AST_BLOOD', 'ALT_BLOOD', 'RAZRIV']]\n",
        "y = df['LET_IS']!=0\n",
        "\n",
        "#Fit the QDA model\n",
        "QDAmodel = QuadraticDiscriminantAnalysis()\n",
        "QDAmodel.fit(X, y)\n",
        "#Define method to evaluate model\n",
        "cv = RepeatedStratifiedKFold(n_splits=10, n_repeats=3, random_state=1)\n",
        "\n",
        "#evaluate model\n",
        "scores = cross_val_score(QDAmodel, X, y, scoring='accuracy', cv=cv, n_jobs=-1)\n",
        "results.append(scores)\n",
        "print(np.mean(scores))"
      ],
      "metadata": {
        "id": "goJBqOXVur8E",
        "colab": {
          "base_uri": "https://localhost:8080/"
        },
        "outputId": "c05cd0b4-bab7-4fdc-db0c-3ee2194acd87"
      },
      "execution_count": null,
      "outputs": [
        {
          "output_type": "stream",
          "name": "stderr",
          "text": [
            "/usr/local/lib/python3.7/dist-packages/sklearn/discriminant_analysis.py:878: UserWarning: Variables are collinear\n",
            "  warnings.warn(\"Variables are collinear\")\n"
          ]
        },
        {
          "output_type": "stream",
          "name": "stdout",
          "text": [
            "0.8614083885209713\n"
          ]
        }
      ]
    },
    {
      "cell_type": "code",
      "source": [
        "#Libraries for Logistic Regression\n",
        "from sklearn.preprocessing import StandardScaler\n",
        "from sklearn.linear_model import LogisticRegression\n",
        "from sklearn.metrics import confusion_matrix\n",
        "import matplotlib.colors as colors\n",
        "from mpl_toolkits.axes_grid1 import make_axes_locatable\n",
        "\n",
        "#define predictor and response variables\n",
        "X = df[['L_BLOOD', 'AGE', 'K_BLOOD', 'S_AD_ORIT', 'TIME_B_S', 'ZSN', 'ROE', 'AST_BLOOD', 'ALT_BLOOD', 'RAZRIV']]\n",
        "y = df['LET_IS']!=0\n",
        "LOGRmodel = LogisticRegression()\n",
        "LOGRmodel.fit(X, y)\n",
        "#Define method to evaluate model\n",
        "cv = RepeatedStratifiedKFold(n_splits=10, n_repeats=3, random_state=1)\n",
        "\n",
        "#evaluate model\n",
        "scores = cross_val_score(LOGRmodel, X, y, scoring='accuracy', cv=cv, n_jobs=-1)\n",
        "results.append(scores)\n",
        "print(np.mean(scores)) "
      ],
      "metadata": {
        "id": "sYBKEZCQul-e",
        "colab": {
          "base_uri": "https://localhost:8080/"
        },
        "outputId": "8f6bcdfd-20ec-4086-b477-e5ae726d4c48"
      },
      "execution_count": null,
      "outputs": [
        {
          "output_type": "stream",
          "name": "stderr",
          "text": [
            "/usr/local/lib/python3.7/dist-packages/sklearn/linear_model/_logistic.py:818: ConvergenceWarning: lbfgs failed to converge (status=1):\n",
            "STOP: TOTAL NO. of ITERATIONS REACHED LIMIT.\n",
            "\n",
            "Increase the number of iterations (max_iter) or scale the data as shown in:\n",
            "    https://scikit-learn.org/stable/modules/preprocessing.html\n",
            "Please also refer to the documentation for alternative solver options:\n",
            "    https://scikit-learn.org/stable/modules/linear_model.html#logistic-regression\n",
            "  extra_warning_msg=_LOGISTIC_SOLVER_CONVERGENCE_MSG,\n"
          ]
        },
        {
          "output_type": "stream",
          "name": "stdout",
          "text": [
            "0.8998660779985282\n"
          ]
        }
      ]
    },
    {
      "cell_type": "code",
      "source": [
        "#Libraries for K Nearest Neighbors\n",
        "from sklearn.neighbors import KNeighborsClassifier\n",
        "\n",
        "#define predictor and response variables\n",
        "X = df[['L_BLOOD', 'AGE', 'K_BLOOD', 'S_AD_ORIT', 'TIME_B_S', 'ZSN', 'ROE', 'AST_BLOOD', 'ALT_BLOOD', 'RAZRIV']]\n",
        "y = df['LET_IS']!=0\n",
        "\n",
        "#Fit the KNN model\n",
        "KNNmodel = KNeighborsClassifier(n_neighbors = 5)\n",
        "KNNmodel.fit(X, y)\n",
        "#Define method to evaluate model\n",
        "cv = RepeatedStratifiedKFold(n_splits=10, n_repeats=3, random_state=1)\n",
        "#evaluate model\n",
        "scores = cross_val_score(KNNmodel, X, y, scoring='accuracy', cv=cv, n_jobs=-1)\n",
        "results.append(scores)\n",
        "print(np.mean(scores))"
      ],
      "metadata": {
        "id": "EYTiFAAu3RfH",
        "colab": {
          "base_uri": "https://localhost:8080/"
        },
        "outputId": "16049a40-7e77-486d-89dd-bab09da57c10"
      },
      "execution_count": null,
      "outputs": [
        {
          "output_type": "stream",
          "name": "stdout",
          "text": [
            "0.8479087564385578\n"
          ]
        }
      ]
    },
    {
      "cell_type": "code",
      "source": [
        "#Decision Trees libraries\n",
        "from sklearn.tree import DecisionTreeClassifier\n",
        "\n",
        "#define predictor and response variables\n",
        "X = df[['L_BLOOD', 'AGE', 'K_BLOOD', 'S_AD_ORIT', 'TIME_B_S', 'ZSN', 'ROE', 'AST_BLOOD', 'ALT_BLOOD', 'RAZRIV']]\n",
        "y = df['LET_IS']!=0\n",
        "\n",
        "#Fit the LDA model\n",
        "DTmodel = DecisionTreeClassifier()\n",
        "DTmodel.fit(X, y)\n",
        "#Define method to evaluate model\n",
        "cv = RepeatedStratifiedKFold(n_splits=10, n_repeats=3, random_state=1)\n",
        "#evaluate model\n",
        "scores = cross_val_score(DTmodel, X, y, scoring='accuracy', cv=cv, n_jobs=-1)\n",
        "results.append(scores)\n",
        "print(np.mean(scores))"
      ],
      "metadata": {
        "id": "oEZ4LvvuvUAv",
        "colab": {
          "base_uri": "https://localhost:8080/"
        },
        "outputId": "c923b3ae-f5b4-48ed-9c17-e1a1e2beb051"
      },
      "execution_count": null,
      "outputs": [
        {
          "output_type": "stream",
          "name": "stdout",
          "text": [
            "0.8353200883002209\n"
          ]
        }
      ]
    },
    {
      "cell_type": "code",
      "source": [
        "#Random Forrest Trees libraries\n",
        "from sklearn.ensemble import RandomForestClassifier\n",
        "\n",
        "#define predictor and response variables\n",
        "X = df[['L_BLOOD', 'AGE', 'K_BLOOD', 'S_AD_ORIT', 'TIME_B_S', 'ZSN', 'ROE', 'AST_BLOOD', 'ALT_BLOOD', 'RAZRIV']]\n",
        "y = df['LET_IS']!=0\n",
        "\n",
        "#Fit the Random Forrest model\n",
        "RFmodel = RandomForestClassifier(max_depth=4, random_state=1234)\n",
        "RFmodel.fit(X, y)\n",
        "#Define method to evaluate model\n",
        "cv = RepeatedStratifiedKFold(n_splits=10, n_repeats=3, random_state=1)\n",
        "#evaluate model\n",
        "scores = cross_val_score(RFmodel, X, y, scoring='accuracy', cv=cv, n_jobs=-1)\n",
        "results.append(scores)\n",
        "print(np.mean(scores))"
      ],
      "metadata": {
        "id": "25bF7Ag0vX61",
        "colab": {
          "base_uri": "https://localhost:8080/"
        },
        "outputId": "719f352d-9067-4715-f340-8a6e461ac7fb"
      },
      "execution_count": null,
      "outputs": [
        {
          "output_type": "stream",
          "name": "stdout",
          "text": [
            "0.8938984547461369\n"
          ]
        }
      ]
    },
    {
      "cell_type": "code",
      "source": [
        "#Support Vector Machines\n",
        "from sklearn.model_selection import GridSearchCV\n",
        "import time\n",
        "from sklearn.pipeline import make_pipeline\n",
        "from sklearn.preprocessing import StandardScaler\n",
        "from sklearn.svm import SVC\n",
        "\n",
        "#define predictor and response variables\n",
        "X = df[['L_BLOOD', 'AGE', 'K_BLOOD', 'S_AD_ORIT', 'TIME_B_S', 'ZSN', 'ROE', 'AST_BLOOD', 'ALT_BLOOD', 'RAZRIV']]\n",
        "y = df['LET_IS']!=0\n",
        "\n",
        "start = time.time()\n",
        "clf = SVC()\n",
        "param_grid = [{'kernel':['rbf'],'gamma':[50,5,10,0.5],\n",
        "             'C':[10,0.1,0.001] }]\n",
        "gsv = GridSearchCV(clf,param_grid,cv=5,n_jobs=-1)\n",
        "gsv.fit(X,y)\n",
        "end = time.time()\n",
        "print(\"Time required =\"+str(end-start)+\"s\")\n",
        "\n",
        "print(\"Best HyperParameter: \",gsv.best_params_)\n",
        "print(\"Best Accuracy: %.2f%%\"%(gsv.best_score_*100))\n",
        "\n",
        "\n",
        "#define predictor and response variables\n",
        "X = df[['L_BLOOD', 'AGE', 'K_BLOOD', 'S_AD_ORIT', 'TIME_B_S', 'ZSN', 'ROE', 'AST_BLOOD', 'ALT_BLOOD', 'RAZRIV']]\n",
        "y = df['LET_IS']!=0\n",
        "\n",
        "#Train the SVC model\n",
        "SVCmodel = SVC(C= 10, gamma = 0.5 ) #Based on what the best hyperparameters are\n",
        "SVCmodel.fit(X, y)\n",
        "\n",
        "#Define method to evaluate model\n",
        "cv = RepeatedStratifiedKFold(n_splits=10, n_repeats=3, random_state=1)\n",
        "\n",
        "#evaluate model\n",
        "scores = cross_val_score(SVCmodel, X, y, scoring='accuracy', cv=cv, n_jobs=-1)\n",
        "results.append(scores)\n",
        "print(np.mean(scores))\n"
      ],
      "metadata": {
        "id": "JENbre1HyQpo",
        "colab": {
          "base_uri": "https://localhost:8080/"
        },
        "outputId": "7213266c-3460-45c6-f53b-9f3361cd9d8e"
      },
      "execution_count": null,
      "outputs": [
        {
          "output_type": "stream",
          "name": "stdout",
          "text": [
            "Time required =5.106146812438965s\n",
            "Best HyperParameter:  {'C': 10, 'gamma': 50, 'kernel': 'rbf'}\n",
            "Best Accuracy: 86.14%\n",
            "0.8600838852097131\n"
          ]
        }
      ]
    },
    {
      "cell_type": "code",
      "source": [
        "#Nueral Networks Libraries\n",
        "from sklearn.neural_network import MLPClassifier\n",
        "\n",
        "#define predictor and response variables\n",
        "X = df[['L_BLOOD', 'AGE', 'K_BLOOD', 'S_AD_ORIT', 'TIME_B_S', 'ZSN', 'ROE', 'AST_BLOOD', 'ALT_BLOOD', 'RAZRIV']]\n",
        "y = df['LET_IS']!=0\n",
        "\n",
        "#Train the NN model\n",
        "NNmodel = MLPClassifier(solver='lbfgs', hidden_layer_sizes=(5, 2), max_iter=500, random_state=1234)\n",
        "NNmodel.fit(X, y)\n",
        "\n",
        "#Define method to evaluate model\n",
        "cv = RepeatedStratifiedKFold(n_splits=10, n_repeats=3, random_state=1)\n",
        "\n",
        "#evaluate model\n",
        "scores = cross_val_score(NNmodel, X, y, scoring='accuracy', cv=cv, n_jobs=-1)\n",
        "results.append(scores)\n",
        "print(np.mean(scores))\n"
      ],
      "metadata": {
        "id": "ka5OJfNTvntf",
        "colab": {
          "base_uri": "https://localhost:8080/"
        },
        "outputId": "4a5bda43-0e67-4a20-bb9e-a6013fdc735d"
      },
      "execution_count": null,
      "outputs": [
        {
          "output_type": "stream",
          "name": "stdout",
          "text": [
            "0.8627343635025755\n"
          ]
        }
      ]
    },
    {
      "cell_type": "code",
      "source": [
        "# boxplot algorithm comparison\n",
        "fig = plt.figure()\n",
        "fig.suptitle('Algorithm Comparison')\n",
        "ax = fig.add_subplot(111)\n",
        "plt.boxplot(results)\n",
        "ax.set_xticklabels(names)\n",
        "plt.show()"
      ],
      "metadata": {
        "colab": {
          "base_uri": "https://localhost:8080/",
          "height": 294
        },
        "id": "2LTQayAadoAM",
        "outputId": "c49865d0-6579-486b-f48e-6aae2980efcb"
      },
      "execution_count": null,
      "outputs": [
        {
          "output_type": "display_data",
          "data": {
            "image/png": "[encoded data removed]",
            "text/plain": [
              "<Figure size 432x288 with 1 Axes>"
            ]
          },
          "metadata": {
            "needs_background": "light"
          }
        }
      ]
    },
    {
      "cell_type": "code",
      "source": [
        "#Deep Learning??"
      ],
      "metadata": {
        "id": "73JscCoR7m5h"
      },
      "execution_count": null,
      "outputs": []
    },
    {
      "cell_type": "code",
      "source": [
        "# Compare Algorithms\n",
        "import pandas\n",
        "import matplotlib.pyplot as plt\n",
        "from sklearn import model_selection\n",
        "from sklearn.linear_model import LogisticRegression\n",
        "from sklearn.tree import DecisionTreeClassifier\n",
        "from sklearn.neighbors import KNeighborsClassifier\n",
        "from sklearn.discriminant_analysis import LinearDiscriminantAnalysis\n",
        "from sklearn.naive_bayes import GaussianNB\n",
        "from sklearn.svm import SVC\n",
        "# load dataset\n",
        "url = \"https://raw.githubusercontent.com/jbrownlee/Datasets/master/pima-indians-diabetes.data.csv\"\n",
        "names = ['preg', 'plas', 'pres', 'skin', 'test', 'mass', 'pedi', 'age', 'class']\n",
        "dataframe = pandas.read_csv(url, names=names)\n",
        "array = dataframe.values\n",
        "X = array[:,0:8]\n",
        "Y = array[:,8]\n",
        "# prepare configuration for cross validation test harness\n",
        "seed = 7\n",
        "# prepare models\n",
        "models = []\n",
        "models.append(('LR', LogisticRegression()))\n",
        "models.append(('LDA', LinearDiscriminantAnalysis()))\n",
        "models.append(('KNN', KNeighborsClassifier()))\n",
        "models.append(('CART', DecisionTreeClassifier()))\n",
        "models.append(('NB', GaussianNB()))\n",
        "models.append(('SVM', SVC()))\n",
        "# evaluate each model in turn\n",
        "results = []\n",
        "names = []\n",
        "scoring = 'accuracy'\n",
        "for name, model in models:\n",
        "\tkfold = model_selection.KFold(n_splits=10, random_state=seed)\n",
        "\tcv_results = model_selection.cross_val_score(model, X, Y, cv=kfold, scoring=scoring)\n",
        "\tresults.append(cv_results)\n",
        "\tnames.append(name)\n",
        "\tmsg = \"%s: %f (%f)\" % (name, cv_results.mean(), cv_results.std())\n",
        "\tprint(msg)\n",
        "# boxplot algorithm comparison\n",
        "fig = plt.figure()\n",
        "fig.suptitle('Algorithm Comparison')\n",
        "ax = fig.add_subplot(111)\n",
        "plt.boxplot(results)\n",
        "ax.set_xticklabels(names)\n",
        "plt.show()"
      ],
      "metadata": {
        "id": "1m-OcLyOFrTb"
      },
      "execution_count": null,
      "outputs": []
    },
    {
      "cell_type": "code",
      "source": [
        "#Alltogether \n",
        "#change to binary outcome\n",
        "df.loc[df.LET_IS!=0,'LET_IS']=1\n",
        "\n",
        "#define predictor and response variables\n",
        "X = df[['AGE', 'SEX', 'INF_ANAM', 'STENOK_AN', 'FK_STENOK']]\n",
        "y = df['LET_IS']\n",
        "\n",
        "from sklearn.model_selection import train_test_split\n",
        "X_train, X_test, y_train, y_test = train_test_split(X, y, test_size=0.25, random_state=8675309)\n",
        "\n",
        "print((df.LET_IS == 1).sum())\n",
        "print((df.LET_IS == 0).sum())\n"
      ],
      "metadata": {
        "colab": {
          "base_uri": "https://localhost:8080/"
        },
        "id": "ZHNEgqtX9XHm",
        "outputId": "7f01fe8d-d9ab-49c9-ef9f-44b14d442a00"
      },
      "execution_count": null,
      "outputs": [
        {
          "output_type": "stream",
          "name": "stdout",
          "text": [
            "271\n",
            "1429\n"
          ]
        }
      ]
    },
    {
      "cell_type": "code",
      "source": [
        "from sklearn.linear_model import LogisticRegression\n",
        "from sklearn.neighbors import KNeighborsClassifier\n",
        "from sklearn.svm import SVC\n",
        "from sklearn.ensemble import RandomForestClassifier\n",
        "from sklearn.naive_bayes import GaussianNB\n",
        "from xgboost import XGBClassifier\n",
        "from sklearn import model_selection\n",
        "from sklearn.utils import class_weight\n",
        "from sklearn.metrics import classification_report\n",
        "from sklearn.metrics import confusion_matrix\n",
        "import numpy as np\n",
        "import pandas as pd\n",
        "\n",
        "def run_exps(X_train: pd.DataFrame , y_train: pd.DataFrame, X_test: pd.DataFrame, y_test: pd.DataFrame) -> pd.DataFrame:\n",
        "    '''\n",
        "    Lightweight script to test many models and find winners\n",
        ":param X_train: training split\n",
        "    :param y_train: training target vector\n",
        "    :param X_test: test split\n",
        "    :param y_test: test target vector\n",
        "    :return: DataFrame of predictions\n",
        "    '''\n",
        "    \n",
        "    dfs = []\n",
        "models = [\n",
        "          ('LogReg', LogisticRegression()), \n",
        "          ('RF', RandomForestClassifier()),\n",
        "          ('KNN', KNeighborsClassifier()),\n",
        "          ('SVM', SVC()), \n",
        "          ('GNB', GaussianNB()),\n",
        "          ('XGB', XGBClassifier())\n",
        "        ]\n",
        "results = []\n",
        "    names = []\n",
        "    scoring = ['accuracy', 'precision_weighted', 'recall_weighted', 'f1_weighted', 'roc_auc']\n",
        "    target_names = ['malignant', 'benign']\n",
        "for name, model in models:\n",
        "        kfold = model_selection.KFold(n_splits=5, shuffle=True, random_state=90210)\n",
        "        cv_results = model_selection.cross_validate(model, X_train, y_train, cv=kfold, scoring=scoring)\n",
        "        clf = model.fit(X_train, y_train)\n",
        "        y_pred = clf.predict(X_test)\n",
        "        print(name)\n",
        "        print(classification_report(y_test, y_pred, target_names=target_names))\n",
        "results.append(cv_results)\n",
        "        names.append(name)\n",
        "this_df = pd.DataFrame(cv_results)\n",
        "        this_df['model'] = name\n",
        "        dfs.append(this_df)\n",
        "final = pd.concat(dfs, ignore_index=True)\n",
        "return final"
      ],
      "metadata": {
        "colab": {
          "base_uri": "https://localhost:8080/",
          "height": 131
        },
        "id": "yMHdZ69h9rPU",
        "outputId": "aff638f1-5ff7-4953-cf22-1f3a96bfa706"
      },
      "execution_count": null,
      "outputs": [
        {
          "output_type": "error",
          "ename": "IndentationError",
          "evalue": "ignored",
          "traceback": [
            "\u001b[0;36m  File \u001b[0;32m\"<ipython-input-46-483f3f7bd218>\"\u001b[0;36m, line \u001b[0;32m34\u001b[0m\n\u001b[0;31m    names = []\u001b[0m\n\u001b[0m    ^\u001b[0m\n\u001b[0;31mIndentationError\u001b[0m\u001b[0;31m:\u001b[0m unexpected indent\n"
          ]
        }
      ]
    },
    {
      "cell_type": "code",
      "source": [
        "bootstraps = []\n",
        "for model in list(set(final.model.values)):\n",
        "    model_df = final.loc[final.model == model]\n",
        "    bootstrap = model_df.sample(n=30, replace=True)\n",
        "    bootstraps.append(bootstrap)\n",
        "        \n",
        "bootstrap_df = pd.concat(bootstraps, ignore_index=True)\n",
        "results_long = pd.melt(bootstrap_df,id_vars=['model'],var_name='metrics', value_name='values')\n",
        "time_metrics = ['fit_time','score_time'] # fit time metrics\n",
        "## PERFORMANCE METRICS\n",
        "results_long_nofit = results_long.loc[~results_long['metrics'].isin(time_metrics)] # get df without fit data\n",
        "results_long_nofit = results_long_nofit.sort_values(by='values')\n",
        "## TIME METRICS\n",
        "results_long_fit = results_long.loc[results_long['metrics'].isin(time_metrics)] # df with fit data\n",
        "results_long_fit = results_long_fit.sort_values(by='values')"
      ],
      "metadata": {
        "id": "5jBPEwfF9yCI"
      },
      "execution_count": null,
      "outputs": []
    },
    {
      "cell_type": "code",
      "source": [
        "import matplotlib.pyplot as plt\n",
        "import seaborn as sns\n",
        "plt.figure(figsize=(20, 12))\n",
        "sns.set(font_scale=2.5)\n",
        "g = sns.boxplot(x=\"model\", y=\"values\", hue=\"metrics\", data=results_long_nofit, palette=\"Set3\")\n",
        "plt.legend(bbox_to_anchor=(1.05, 1), loc=2, borderaxespad=0.)\n",
        "plt.title('Comparison of Model by Classification Metric')\n",
        "plt.savefig('./benchmark_models_performance.png',dpi=300)"
      ],
      "metadata": {
        "id": "BYtRrBm-91ma"
      },
      "execution_count": null,
      "outputs": []
    },
    {
      "cell_type": "code",
      "source": [
        "plt.figure(figsize=(20, 12))\n",
        "sns.set(font_scale=2.5)\n",
        "g = sns.boxplot(x=\"model\", y=\"values\", hue=\"metrics\", data=results_long_fit, palette=\"Set3\")\n",
        "plt.legend(bbox_to_anchor=(1.05, 1), loc=2, borderaxespad=0.)\n",
        "plt.title('Comparison of Model by Fit and Score Time')\n",
        "plt.savefig('./benchmark_models_time.png',dpi=300)"
      ],
      "metadata": {
        "id": "66-kmaRV9_HE"
      },
      "execution_count": null,
      "outputs": []
    }
  ]
}