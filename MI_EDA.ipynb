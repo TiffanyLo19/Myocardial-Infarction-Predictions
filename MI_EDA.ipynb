{
  "nbformat": 4,
  "nbformat_minor": 0,
  "metadata": {
    "colab": {
      "name": "MI_EDA.ipynb",
      "provenance": [],
      "collapsed_sections": [],
      "mount_file_id": "1UYfmQ95Sa1yML31diPb8nsp2K9vFMDRk",
      "authorship_tag": "ABX9TyMjYZF/a4hAus69KG5llJSw",
      "include_colab_link": true
    },
    "kernelspec": {
      "name": "python3",
      "display_name": "Python 3"
    },
    "language_info": {
      "name": "python"
    }
  },
  "cells": [
    {
      "cell_type": "markdown",
      "metadata": {
        "id": "view-in-github",
        "colab_type": "text"
      },
      "source": [
        "<a href=\"https://colab.research.google.com/github/siribafna/Myocardial-Infarction-Predictions/blob/main/MI_EDA.ipynb\" target=\"_parent\"><img src=\"https://colab.research.google.com/assets/colab-badge.svg\" alt=\"Open In Colab\"/></a>"
      ]
    },
    {
      "cell_type": "code",
      "execution_count": 4,
      "metadata": {
        "id": "NfJMdyhBN89w"
      },
      "outputs": [],
      "source": [
        "#%% Libraries\n",
        "import numpy as np\n",
        "import matplotlib.pyplot as plt\n",
        "import pandas as pd"
      ]
    },
    {
      "cell_type": "code",
      "source": [
        "from google.colab import drive\n",
        "drive.mount('/content/drive')"
      ],
      "metadata": {
        "colab": {
          "base_uri": "https://localhost:8080/"
        },
        "id": "2ZAeG2eeOEH8",
        "outputId": "c38e0b81-f3de-401d-bd70-6144fb02f3ee"
      },
      "execution_count": 1,
      "outputs": [
        {
          "output_type": "stream",
          "name": "stdout",
          "text": [
            "Mounted at /content/drive\n"
          ]
        }
      ]
    },
    {
      "cell_type": "code",
      "source": [
        "#Get data from csv\n",
        "df = pd.read_csv(\"/content/drive/MyDrive/CS 4475/Myocardial infarction complications Database.csv\")"
      ],
      "metadata": {
        "id": "Jj70w8SyPJuw"
      },
      "execution_count": 11,
      "outputs": []
    },
    {
      "cell_type": "code",
      "source": [
        "# ID is not useful for analysis\n",
        "df.drop(\"ID\", axis=1, inplace=True)"
      ],
      "metadata": {
        "id": "7On4qoicWwgw"
      },
      "execution_count": 16,
      "outputs": []
    },
    {
      "cell_type": "code",
      "source": [
        "df.head()"
      ],
      "metadata": {
        "id": "_q51Zoy_PU3J"
      },
      "execution_count": null,
      "outputs": []
    },
    {
      "cell_type": "code",
      "source": [
        "#Correlation Heat Map\n",
        "corr = df.corr()\n",
        "corr.style.background_gradient(cmap='coolwarm').set_precision(2)\n",
        "#notes of correlations:\n"
      ],
      "metadata": {
        "id": "Q-27v87GQ191"
      },
      "execution_count": null,
      "outputs": []
    },
    {
      "cell_type": "code",
      "source": [
        "#Missing Data\n",
        "#%% Show number of NaN\n",
        "df.isna().sum()"
      ],
      "metadata": {
        "colab": {
          "base_uri": "https://localhost:8080/"
        },
        "id": "Gn1lksr-S3Zg",
        "outputId": "ee075f66-f4a5-4e16-94ce-b658f9302c98"
      },
      "execution_count": 15,
      "outputs": [
        {
          "output_type": "execute_result",
          "data": {
            "text/plain": [
              "ID             0\n",
              "AGE            8\n",
              "SEX            0\n",
              "INF_ANAM       4\n",
              "STENOK_AN    106\n",
              "            ... \n",
              "DRESSLER       0\n",
              "ZSN            0\n",
              "REC_IM         0\n",
              "P_IM_STEN      0\n",
              "LET_IS         0\n",
              "Length: 124, dtype: int64"
            ]
          },
          "metadata": {},
          "execution_count": 15
        }
      ]
    }
  ]
}