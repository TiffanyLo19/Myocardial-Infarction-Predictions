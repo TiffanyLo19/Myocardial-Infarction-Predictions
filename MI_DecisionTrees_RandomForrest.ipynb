{
  "nbformat": 4,
  "nbformat_minor": 0,
  "metadata": {
    "colab": {
      "name": "MI_DecisionTrees_RandomForrest.ipynb",
      "provenance": [],
      "collapsed_sections": [],
      "authorship_tag": "ABX9TyOrzhcuz2Zt0Pb72RCQ4GJa",
      "include_colab_link": true
    },
    "kernelspec": {
      "name": "python3",
      "display_name": "Python 3"
    },
    "language_info": {
      "name": "python"
    }
  },
  "cells": [
    {
      "cell_type": "markdown",
      "metadata": {
        "id": "view-in-github",
        "colab_type": "text"
      },
      "source": [
        "<a href=\"https://colab.research.google.com/github/siribafna/Myocardial-Infarction-Predictions/blob/main/MI_DecisionTrees_RandomForrest.ipynb\" target=\"_parent\"><img src=\"https://colab.research.google.com/assets/colab-badge.svg\" alt=\"Open In Colab\"/></a>"
      ]
    },
    {
      "cell_type": "code",
      "execution_count": null,
      "metadata": {
        "id": "e0BkD9_ZeOFT"
      },
      "outputs": [],
      "source": [
        "#%% Libraries\n",
        "import numpy as np\n",
        "import matplotlib.pyplot as plt\n",
        "from matplotlib.patches import Patch\n",
        "from matplotlib.lines import Line2D\n",
        "import pandas as pd\n",
        "import seaborn as sns "
      ]
    },
    {
      "cell_type": "code",
      "source": [
        "from google.colab import drive\n",
        "drive.mount('/content/drive')"
      ],
      "metadata": {
        "id": "JE9kDgG3e7Mr"
      },
      "execution_count": null,
      "outputs": []
    },
    {
      "cell_type": "code",
      "source": [
        "#Decision Trees libraries\n",
        "from sklearn.tree import DecisionTreeClassifier\n",
        "\n",
        "#define predictor and response variables\n",
        "X = df[['AGE', 'SEX', 'INF_ANAM', 'STENOK_AN', 'FK_STENOK']]\n",
        "y = df['LET_IS']!=0\n",
        "\n",
        "#Fit the LDA model\n",
        "model = DecisionTreeClassifier()\n",
        "model.fit(X, y)\n",
        "#Define method to evaluate model\n",
        "cv = RepeatedStratifiedKFold(n_splits=10, n_repeats=3, random_state=1)\n",
        "#evaluate model\n",
        "scores = cross_val_score(model, X, y, scoring='accuracy', cv=cv, n_jobs=-1)\n",
        "print(np.mean(scores))\n"
      ],
      "metadata": {
        "id": "RzWQkWoCfRj3"
      },
      "execution_count": null,
      "outputs": []
    },
    {
      "cell_type": "code",
      "source": [
        "#Random Forrest Trees libraries\n",
        "from sklearn.tree import DecisionTreeClassifier\n",
        "\n",
        "#define predictor and response variables\n",
        "X = df[['AGE', 'SEX', 'INF_ANAM', 'STENOK_AN', 'FK_STENOK']]\n",
        "y = df['LET_IS']!=0\n",
        "\n",
        "#Fit the LDA model\n",
        "model = DecisionTreeClassifier()\n",
        "model.fit(X, y)\n",
        "#Define method to evaluate model\n",
        "cv = RepeatedStratifiedKFold(n_splits=10, n_repeats=3, random_state=1)\n",
        "#evaluate model\n",
        "scores = cross_val_score(model, X, y, scoring='accuracy', cv=cv, n_jobs=-1)\n",
        "print(np.mean(scores))"
      ],
      "metadata": {
        "id": "ORcT9-wvuI7b"
      },
      "execution_count": null,
      "outputs": []
    }
  ]
}